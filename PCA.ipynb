{
  "cells": [
    {
      "cell_type": "markdown",
      "metadata": {
        "id": "G4EYkYFUnDxZ"
      },
      "source": [
        "Perform Principal component analysis and perform clustering\n",
        "- using first 3 principal component scores (both heirarchial and k mean clustering(scree plot or elbow curve) and\n",
        "- obtain optimum number of clusters and check whether we have obtained same number of clusters with the original data\n",
        "(class column we have ignored at the begining who shows it has 3 clusters)\n"
      ]
    },
    {
      "cell_type": "code",
      "execution_count": 1,
      "metadata": {
        "id": "Tm9wM5sxmt66"
      },
      "outputs": [],
      "source": [
        "import numpy as np\n",
        "import pandas as pd\n",
        "import matplotlib.pyplot as plt\n",
        "import seaborn as sns"
      ]
    },
    {
      "cell_type": "code",
      "execution_count": 2,
      "metadata": {
        "colab": {
          "base_uri": "https://localhost:8080/",
          "height": 206
        },
        "id": "s3DfyvHGDnd-",
        "outputId": "f229df61-ca9d-4deb-d736-2ac2da1b69ce"
      },
      "outputs": [
        {
          "data": {
            "text/html": [
              "<div>\n",
              "<style scoped>\n",
              "    .dataframe tbody tr th:only-of-type {\n",
              "        vertical-align: middle;\n",
              "    }\n",
              "\n",
              "    .dataframe tbody tr th {\n",
              "        vertical-align: top;\n",
              "    }\n",
              "\n",
              "    .dataframe thead th {\n",
              "        text-align: right;\n",
              "    }\n",
              "</style>\n",
              "<table border=\"1\" class=\"dataframe\">\n",
              "  <thead>\n",
              "    <tr style=\"text-align: right;\">\n",
              "      <th></th>\n",
              "      <th>Type</th>\n",
              "      <th>Alcohol</th>\n",
              "      <th>Malic</th>\n",
              "      <th>Ash</th>\n",
              "      <th>Alcalinity</th>\n",
              "      <th>Magnesium</th>\n",
              "      <th>Phenols</th>\n",
              "      <th>Flavanoids</th>\n",
              "      <th>Nonflavanoids</th>\n",
              "      <th>Proanthocyanins</th>\n",
              "      <th>Color</th>\n",
              "      <th>Hue</th>\n",
              "      <th>Dilution</th>\n",
              "      <th>Proline</th>\n",
              "    </tr>\n",
              "  </thead>\n",
              "  <tbody>\n",
              "    <tr>\n",
              "      <th>0</th>\n",
              "      <td>1</td>\n",
              "      <td>14.23</td>\n",
              "      <td>1.71</td>\n",
              "      <td>2.43</td>\n",
              "      <td>15.6</td>\n",
              "      <td>127</td>\n",
              "      <td>2.80</td>\n",
              "      <td>3.06</td>\n",
              "      <td>0.28</td>\n",
              "      <td>2.29</td>\n",
              "      <td>5.64</td>\n",
              "      <td>1.04</td>\n",
              "      <td>3.92</td>\n",
              "      <td>1065</td>\n",
              "    </tr>\n",
              "    <tr>\n",
              "      <th>1</th>\n",
              "      <td>1</td>\n",
              "      <td>13.20</td>\n",
              "      <td>1.78</td>\n",
              "      <td>2.14</td>\n",
              "      <td>11.2</td>\n",
              "      <td>100</td>\n",
              "      <td>2.65</td>\n",
              "      <td>2.76</td>\n",
              "      <td>0.26</td>\n",
              "      <td>1.28</td>\n",
              "      <td>4.38</td>\n",
              "      <td>1.05</td>\n",
              "      <td>3.40</td>\n",
              "      <td>1050</td>\n",
              "    </tr>\n",
              "    <tr>\n",
              "      <th>2</th>\n",
              "      <td>1</td>\n",
              "      <td>13.16</td>\n",
              "      <td>2.36</td>\n",
              "      <td>2.67</td>\n",
              "      <td>18.6</td>\n",
              "      <td>101</td>\n",
              "      <td>2.80</td>\n",
              "      <td>3.24</td>\n",
              "      <td>0.30</td>\n",
              "      <td>2.81</td>\n",
              "      <td>5.68</td>\n",
              "      <td>1.03</td>\n",
              "      <td>3.17</td>\n",
              "      <td>1185</td>\n",
              "    </tr>\n",
              "    <tr>\n",
              "      <th>3</th>\n",
              "      <td>1</td>\n",
              "      <td>14.37</td>\n",
              "      <td>1.95</td>\n",
              "      <td>2.50</td>\n",
              "      <td>16.8</td>\n",
              "      <td>113</td>\n",
              "      <td>3.85</td>\n",
              "      <td>3.49</td>\n",
              "      <td>0.24</td>\n",
              "      <td>2.18</td>\n",
              "      <td>7.80</td>\n",
              "      <td>0.86</td>\n",
              "      <td>3.45</td>\n",
              "      <td>1480</td>\n",
              "    </tr>\n",
              "    <tr>\n",
              "      <th>4</th>\n",
              "      <td>1</td>\n",
              "      <td>13.24</td>\n",
              "      <td>2.59</td>\n",
              "      <td>2.87</td>\n",
              "      <td>21.0</td>\n",
              "      <td>118</td>\n",
              "      <td>2.80</td>\n",
              "      <td>2.69</td>\n",
              "      <td>0.39</td>\n",
              "      <td>1.82</td>\n",
              "      <td>4.32</td>\n",
              "      <td>1.04</td>\n",
              "      <td>2.93</td>\n",
              "      <td>735</td>\n",
              "    </tr>\n",
              "  </tbody>\n",
              "</table>\n",
              "</div>"
            ],
            "text/plain": [
              "   Type  Alcohol  Malic   Ash  Alcalinity  Magnesium  Phenols  Flavanoids  \\\n",
              "0     1    14.23   1.71  2.43        15.6        127     2.80        3.06   \n",
              "1     1    13.20   1.78  2.14        11.2        100     2.65        2.76   \n",
              "2     1    13.16   2.36  2.67        18.6        101     2.80        3.24   \n",
              "3     1    14.37   1.95  2.50        16.8        113     3.85        3.49   \n",
              "4     1    13.24   2.59  2.87        21.0        118     2.80        2.69   \n",
              "\n",
              "   Nonflavanoids  Proanthocyanins  Color   Hue  Dilution  Proline  \n",
              "0           0.28             2.29   5.64  1.04      3.92     1065  \n",
              "1           0.26             1.28   4.38  1.05      3.40     1050  \n",
              "2           0.30             2.81   5.68  1.03      3.17     1185  \n",
              "3           0.24             2.18   7.80  0.86      3.45     1480  \n",
              "4           0.39             1.82   4.32  1.04      2.93      735  "
            ]
          },
          "execution_count": 2,
          "metadata": {},
          "output_type": "execute_result"
        }
      ],
      "source": [
        "df=pd.read_csv('wine (1).csv')\n",
        "df.head()"
      ]
    },
    {
      "cell_type": "code",
      "execution_count": 3,
      "metadata": {
        "colab": {
          "base_uri": "https://localhost:8080/"
        },
        "id": "hgurxFbjhkTH",
        "outputId": "0fce115d-adbc-488e-8b62-76f1f50b90a7"
      },
      "outputs": [
        {
          "data": {
            "text/plain": [
              "(178, 14)"
            ]
          },
          "execution_count": 3,
          "metadata": {},
          "output_type": "execute_result"
        }
      ],
      "source": [
        "df.shape"
      ]
    },
    {
      "cell_type": "code",
      "execution_count": 4,
      "metadata": {
        "colab": {
          "base_uri": "https://localhost:8080/"
        },
        "id": "niTQkMOSgIOV",
        "outputId": "34b70635-12f4-431e-b66a-3755d2aa0702"
      },
      "outputs": [
        {
          "name": "stdout",
          "output_type": "stream",
          "text": [
            "<class 'pandas.core.frame.DataFrame'>\n",
            "RangeIndex: 178 entries, 0 to 177\n",
            "Data columns (total 14 columns):\n",
            " #   Column           Non-Null Count  Dtype  \n",
            "---  ------           --------------  -----  \n",
            " 0   Type             178 non-null    int64  \n",
            " 1   Alcohol          178 non-null    float64\n",
            " 2   Malic            178 non-null    float64\n",
            " 3   Ash              178 non-null    float64\n",
            " 4   Alcalinity       178 non-null    float64\n",
            " 5   Magnesium        178 non-null    int64  \n",
            " 6   Phenols          178 non-null    float64\n",
            " 7   Flavanoids       178 non-null    float64\n",
            " 8   Nonflavanoids    178 non-null    float64\n",
            " 9   Proanthocyanins  178 non-null    float64\n",
            " 10  Color            178 non-null    float64\n",
            " 11  Hue              178 non-null    float64\n",
            " 12  Dilution         178 non-null    float64\n",
            " 13  Proline          178 non-null    int64  \n",
            "dtypes: float64(11), int64(3)\n",
            "memory usage: 19.6 KB\n"
          ]
        }
      ],
      "source": [
        "df.info()"
      ]
    },
    {
      "cell_type": "code",
      "execution_count": 5,
      "metadata": {
        "colab": {
          "base_uri": "https://localhost:8080/",
          "height": 712
        },
        "id": "oKdHRfVpgQQB",
        "outputId": "31de7981-3cc2-44a1-90b2-418aa106a3b2"
      },
      "outputs": [
        {
          "data": {
            "text/plain": [
              "array([[<Axes: title={'center': 'Type'}>,\n",
              "        <Axes: title={'center': 'Alcohol'}>,\n",
              "        <Axes: title={'center': 'Malic'}>,\n",
              "        <Axes: title={'center': 'Ash'}>],\n",
              "       [<Axes: title={'center': 'Alcalinity'}>,\n",
              "        <Axes: title={'center': 'Magnesium'}>,\n",
              "        <Axes: title={'center': 'Phenols'}>,\n",
              "        <Axes: title={'center': 'Flavanoids'}>],\n",
              "       [<Axes: title={'center': 'Nonflavanoids'}>,\n",
              "        <Axes: title={'center': 'Proanthocyanins'}>,\n",
              "        <Axes: title={'center': 'Color'}>,\n",
              "        <Axes: title={'center': 'Hue'}>],\n",
              "       [<Axes: title={'center': 'Dilution'}>,\n",
              "        <Axes: title={'center': 'Proline'}>, <Axes: >, <Axes: >]],\n",
              "      dtype=object)"
            ]
          },
          "execution_count": 5,
          "metadata": {},
          "output_type": "execute_result"
        },
        {
          "data": {
            "image/png": "[encoded data removed]",
            "text/plain": [
              "<Figure size 640x480 with 16 Axes>"
            ]
          },
          "metadata": {},
          "output_type": "display_data"
        }
      ],
      "source": [
        "df.hist()"
      ]
    },
    {
      "cell_type": "code",
      "execution_count": 6,
      "metadata": {
        "colab": {
          "base_uri": "https://localhost:8080/"
        },
        "id": "ZuNSMowrDr4F",
        "outputId": "967a1042-6205-4150-9087-4447b5be6c67"
      },
      "outputs": [
        {
          "data": {
            "text/plain": [
              "Type\n",
              "2    71\n",
              "1    59\n",
              "3    48\n",
              "Name: count, dtype: int64"
            ]
          },
          "execution_count": 6,
          "metadata": {},
          "output_type": "execute_result"
        }
      ],
      "source": [
        "df['Type'].value_counts()"
      ]
    },
    {
      "cell_type": "code",
      "execution_count": 7,
      "metadata": {
        "colab": {
          "base_uri": "https://localhost:8080/"
        },
        "id": "aJ0_XMkWhFzo",
        "outputId": "1e599ce7-deae-4e7d-9020-aa8234b2546c"
      },
      "outputs": [
        {
          "data": {
            "text/plain": [
              "Type               0\n",
              "Alcohol            0\n",
              "Malic              0\n",
              "Ash                0\n",
              "Alcalinity         0\n",
              "Magnesium          0\n",
              "Phenols            0\n",
              "Flavanoids         0\n",
              "Nonflavanoids      0\n",
              "Proanthocyanins    0\n",
              "Color              0\n",
              "Hue                0\n",
              "Dilution           0\n",
              "Proline            0\n",
              "dtype: int64"
            ]
          },
          "execution_count": 7,
          "metadata": {},
          "output_type": "execute_result"
        }
      ],
      "source": [
        "df.isnull().sum()"
      ]
    },
    {
      "cell_type": "code",
      "execution_count": 8,
      "metadata": {
        "colab": {
          "base_uri": "https://localhost:8080/"
        },
        "id": "2ZG8X7SyhJ-j",
        "outputId": "0c0cd17d-2d05-465c-eb2e-9f0ac7d5be07"
      },
      "outputs": [
        {
          "data": {
            "text/plain": [
              "0"
            ]
          },
          "execution_count": 8,
          "metadata": {},
          "output_type": "execute_result"
        }
      ],
      "source": [
        "df.duplicated().sum()"
      ]
    },
    {
      "cell_type": "code",
      "execution_count": 9,
      "metadata": {
        "colab": {
          "base_uri": "https://localhost:8080/",
          "height": 794
        },
        "id": "Q-6ihGYXhSzI",
        "outputId": "116ff94c-5b6d-4192-ff5f-eb15c665d3a5"
      },
      "outputs": [
        {
          "data": {
            "text/plain": [
              "(array([ 1,  2,  3,  4,  5,  6,  7,  8,  9, 10, 11, 12, 13, 14]),\n",
              " [Text(1, 0, 'Type'),\n",
              "  Text(2, 0, 'Alcohol'),\n",
              "  Text(3, 0, 'Malic'),\n",
              "  Text(4, 0, 'Ash'),\n",
              "  Text(5, 0, 'Alcalinity'),\n",
              "  Text(6, 0, 'Magnesium'),\n",
              "  Text(7, 0, 'Phenols'),\n",
              "  Text(8, 0, 'Flavanoids'),\n",
              "  Text(9, 0, 'Nonflavanoids'),\n",
              "  Text(10, 0, 'Proanthocyanins'),\n",
              "  Text(11, 0, 'Color'),\n",
              "  Text(12, 0, 'Hue'),\n",
              "  Text(13, 0, 'Dilution'),\n",
              "  Text(14, 0, 'Proline')])"
            ]
          },
          "execution_count": 9,
          "metadata": {},
          "output_type": "execute_result"
        },
        {
          "data": {
            "image/png": "[encoded data removed]",
            "text/plain": [
              "<Figure size 640x480 with 1 Axes>"
            ]
          },
          "metadata": {},
          "output_type": "display_data"
        }
      ],
      "source": [
        "df.boxplot()\n",
        "plt.xticks(rotation=90)"
      ]
    },
    {
      "cell_type": "code",
      "execution_count": 10,
      "metadata": {
        "colab": {
          "base_uri": "https://localhost:8080/"
        },
        "id": "EzswVTyPkor9",
        "outputId": "5cb41ce0-2451-4336-d864-7b98c2167305"
      },
      "outputs": [
        {
          "data": {
            "text/plain": [
              "17.2"
            ]
          },
          "execution_count": 10,
          "metadata": {},
          "output_type": "execute_result"
        }
      ],
      "source": [
        "df['Alcalinity'].quantile(.25)"
      ]
    },
    {
      "cell_type": "code",
      "execution_count": 11,
      "metadata": {
        "id": "8USVhSKSkX1L"
      },
      "outputs": [],
      "source": [
        "def outlier_treatment(data, column):\n",
        "    q1 = data[column].quantile(0.25)\n",
        "    q3 = data[column].quantile(0.75)\n",
        "    iqr = q3 - q1\n",
        "    max_lt = q3 + 1.5 * iqr\n",
        "    min_lt = q1 - 1.5 * iqr\n",
        "\n",
        "    data[column] = np.where(data[column] > max_lt, data[column].median(), data[column])\n",
        "    data[column] = np.where(data[column] < min_lt, data[column].median(), data[column])\n",
        "    return data[column]\n"
      ]
    },
    {
      "cell_type": "code",
      "execution_count": 12,
      "metadata": {
        "id": "PQr3CET3h96v"
      },
      "outputs": [],
      "source": [
        "columns = ['Malic', 'Ash', 'Alcalinity', 'Magnesium', 'Proanthocyanins', 'Color', 'Hue']\n",
        "for i in columns:\n",
        "  outlier_treatment(df, i)\n"
      ]
    },
    {
      "cell_type": "code",
      "execution_count": 13,
      "metadata": {
        "colab": {
          "base_uri": "https://localhost:8080/"
        },
        "id": "6RvG5N1qSoOh",
        "outputId": "ad42b137-e652-4a7f-e63d-3fefaa8aeff5"
      },
      "outputs": [
        {
          "data": {
            "text/plain": [
              "Index(['Type', 'Alcohol', 'Malic', 'Ash', 'Alcalinity', 'Magnesium', 'Phenols',\n",
              "       'Flavanoids', 'Nonflavanoids', 'Proanthocyanins', 'Color', 'Hue',\n",
              "       'Dilution', 'Proline'],\n",
              "      dtype='object')"
            ]
          },
          "execution_count": 13,
          "metadata": {},
          "output_type": "execute_result"
        }
      ],
      "source": [
        "df.columns"
      ]
    },
    {
      "cell_type": "code",
      "execution_count": 14,
      "metadata": {
        "colab": {
          "base_uri": "https://localhost:8080/",
          "height": 206
        },
        "id": "PgOmSYMaSkcr",
        "outputId": "a9d42809-3417-4c1a-9745-595d9a396323"
      },
      "outputs": [
        {
          "data": {
            "text/html": [
              "<div>\n",
              "<style scoped>\n",
              "    .dataframe tbody tr th:only-of-type {\n",
              "        vertical-align: middle;\n",
              "    }\n",
              "\n",
              "    .dataframe tbody tr th {\n",
              "        vertical-align: top;\n",
              "    }\n",
              "\n",
              "    .dataframe thead th {\n",
              "        text-align: right;\n",
              "    }\n",
              "</style>\n",
              "<table border=\"1\" class=\"dataframe\">\n",
              "  <thead>\n",
              "    <tr style=\"text-align: right;\">\n",
              "      <th></th>\n",
              "      <th>Alcohol</th>\n",
              "      <th>Malic</th>\n",
              "      <th>Ash</th>\n",
              "      <th>Alcalinity</th>\n",
              "      <th>Magnesium</th>\n",
              "      <th>Phenols</th>\n",
              "      <th>Flavanoids</th>\n",
              "      <th>Nonflavanoids</th>\n",
              "      <th>Proanthocyanins</th>\n",
              "      <th>Color</th>\n",
              "      <th>Hue</th>\n",
              "      <th>Dilution</th>\n",
              "      <th>Proline</th>\n",
              "    </tr>\n",
              "  </thead>\n",
              "  <tbody>\n",
              "    <tr>\n",
              "      <th>0</th>\n",
              "      <td>1.518613</td>\n",
              "      <td>-0.547641</td>\n",
              "      <td>0.273971</td>\n",
              "      <td>-1.254501</td>\n",
              "      <td>2.322386</td>\n",
              "      <td>0.808997</td>\n",
              "      <td>1.034819</td>\n",
              "      <td>-0.659563</td>\n",
              "      <td>1.344130</td>\n",
              "      <td>0.352805</td>\n",
              "      <td>0.392826</td>\n",
              "      <td>1.847920</td>\n",
              "      <td>1.013009</td>\n",
              "    </tr>\n",
              "    <tr>\n",
              "      <th>1</th>\n",
              "      <td>0.246290</td>\n",
              "      <td>-0.479490</td>\n",
              "      <td>-0.901621</td>\n",
              "      <td>-2.712903</td>\n",
              "      <td>0.111335</td>\n",
              "      <td>0.568648</td>\n",
              "      <td>0.733629</td>\n",
              "      <td>-0.820719</td>\n",
              "      <td>-0.540944</td>\n",
              "      <td>-0.250988</td>\n",
              "      <td>0.438116</td>\n",
              "      <td>1.113449</td>\n",
              "      <td>0.965242</td>\n",
              "    </tr>\n",
              "    <tr>\n",
              "      <th>2</th>\n",
              "      <td>0.196879</td>\n",
              "      <td>0.085189</td>\n",
              "      <td>1.246874</td>\n",
              "      <td>-0.260136</td>\n",
              "      <td>0.193225</td>\n",
              "      <td>0.808997</td>\n",
              "      <td>1.215533</td>\n",
              "      <td>-0.498407</td>\n",
              "      <td>2.314663</td>\n",
              "      <td>0.371973</td>\n",
              "      <td>0.347536</td>\n",
              "      <td>0.788587</td>\n",
              "      <td>1.395148</td>\n",
              "    </tr>\n",
              "    <tr>\n",
              "      <th>3</th>\n",
              "      <td>1.691550</td>\n",
              "      <td>-0.313981</td>\n",
              "      <td>0.557734</td>\n",
              "      <td>-0.856755</td>\n",
              "      <td>1.175915</td>\n",
              "      <td>2.491446</td>\n",
              "      <td>1.466525</td>\n",
              "      <td>-0.981875</td>\n",
              "      <td>1.138825</td>\n",
              "      <td>1.387878</td>\n",
              "      <td>-0.422392</td>\n",
              "      <td>1.184071</td>\n",
              "      <td>2.334574</td>\n",
              "    </tr>\n",
              "    <tr>\n",
              "      <th>4</th>\n",
              "      <td>0.295700</td>\n",
              "      <td>0.309113</td>\n",
              "      <td>2.057627</td>\n",
              "      <td>0.535356</td>\n",
              "      <td>1.585369</td>\n",
              "      <td>0.808997</td>\n",
              "      <td>0.663351</td>\n",
              "      <td>0.226796</td>\n",
              "      <td>0.466917</td>\n",
              "      <td>-0.279740</td>\n",
              "      <td>0.392826</td>\n",
              "      <td>0.449601</td>\n",
              "      <td>-0.037874</td>\n",
              "    </tr>\n",
              "  </tbody>\n",
              "</table>\n",
              "</div>"
            ],
            "text/plain": [
              "    Alcohol     Malic       Ash  Alcalinity  Magnesium   Phenols  Flavanoids  \\\n",
              "0  1.518613 -0.547641  0.273971   -1.254501   2.322386  0.808997    1.034819   \n",
              "1  0.246290 -0.479490 -0.901621   -2.712903   0.111335  0.568648    0.733629   \n",
              "2  0.196879  0.085189  1.246874   -0.260136   0.193225  0.808997    1.215533   \n",
              "3  1.691550 -0.313981  0.557734   -0.856755   1.175915  2.491446    1.466525   \n",
              "4  0.295700  0.309113  2.057627    0.535356   1.585369  0.808997    0.663351   \n",
              "\n",
              "   Nonflavanoids  Proanthocyanins     Color       Hue  Dilution   Proline  \n",
              "0      -0.659563         1.344130  0.352805  0.392826  1.847920  1.013009  \n",
              "1      -0.820719        -0.540944 -0.250988  0.438116  1.113449  0.965242  \n",
              "2      -0.498407         2.314663  0.371973  0.347536  0.788587  1.395148  \n",
              "3      -0.981875         1.138825  1.387878 -0.422392  1.184071  2.334574  \n",
              "4       0.226796         0.466917 -0.279740  0.392826  0.449601 -0.037874  "
            ]
          },
          "execution_count": 14,
          "metadata": {},
          "output_type": "execute_result"
        }
      ],
      "source": [
        "from sklearn.preprocessing import StandardScaler\n",
        "scaler = StandardScaler()\n",
        "\n",
        "df_scaled = pd.DataFrame()\n",
        "df_scaled[['Alcohol', 'Malic', 'Ash', 'Alcalinity', 'Magnesium', 'Phenols', 'Flavanoids',\n",
        "           'Nonflavanoids', 'Proanthocyanins', 'Color', 'Hue', 'Dilution', 'Proline']] = scaler.fit_transform(\n",
        "              df[['Alcohol', 'Malic', 'Ash', 'Alcalinity', 'Magnesium', 'Phenols', 'Flavanoids',\n",
        "           'Nonflavanoids', 'Proanthocyanins', 'Color', 'Hue', 'Dilution', 'Proline']]\n",
        "              )\n",
        "df_scaled.head()"
      ]
    },
    {
      "cell_type": "code",
      "execution_count": 15,
      "metadata": {
        "colab": {
          "base_uri": "https://localhost:8080/",
          "height": 206
        },
        "id": "oPvP_NNgSQJa",
        "outputId": "b326c1e9-c0dd-4fa7-827f-813939a8f303"
      },
      "outputs": [
        {
          "data": {
            "text/html": [
              "<div>\n",
              "<style scoped>\n",
              "    .dataframe tbody tr th:only-of-type {\n",
              "        vertical-align: middle;\n",
              "    }\n",
              "\n",
              "    .dataframe tbody tr th {\n",
              "        vertical-align: top;\n",
              "    }\n",
              "\n",
              "    .dataframe thead th {\n",
              "        text-align: right;\n",
              "    }\n",
              "</style>\n",
              "<table border=\"1\" class=\"dataframe\">\n",
              "  <thead>\n",
              "    <tr style=\"text-align: right;\">\n",
              "      <th></th>\n",
              "      <th>0</th>\n",
              "      <th>1</th>\n",
              "      <th>2</th>\n",
              "      <th>3</th>\n",
              "      <th>4</th>\n",
              "      <th>5</th>\n",
              "      <th>6</th>\n",
              "      <th>7</th>\n",
              "      <th>8</th>\n",
              "      <th>9</th>\n",
              "      <th>10</th>\n",
              "      <th>11</th>\n",
              "      <th>12</th>\n",
              "    </tr>\n",
              "  </thead>\n",
              "  <tbody>\n",
              "    <tr>\n",
              "      <th>0</th>\n",
              "      <td>3.459757</td>\n",
              "      <td>-1.658053</td>\n",
              "      <td>0.082919</td>\n",
              "      <td>-0.084664</td>\n",
              "      <td>0.709117</td>\n",
              "      <td>0.001396</td>\n",
              "      <td>0.779608</td>\n",
              "      <td>0.470258</td>\n",
              "      <td>0.805707</td>\n",
              "      <td>0.801911</td>\n",
              "      <td>-0.262571</td>\n",
              "      <td>-0.919710</td>\n",
              "      <td>-0.251601</td>\n",
              "    </tr>\n",
              "    <tr>\n",
              "      <th>1</th>\n",
              "      <td>2.367190</td>\n",
              "      <td>0.263031</td>\n",
              "      <td>-1.969243</td>\n",
              "      <td>-0.607071</td>\n",
              "      <td>0.518867</td>\n",
              "      <td>-1.050915</td>\n",
              "      <td>0.400211</td>\n",
              "      <td>-0.724923</td>\n",
              "      <td>-0.598218</td>\n",
              "      <td>0.573288</td>\n",
              "      <td>-0.094103</td>\n",
              "      <td>-0.235673</td>\n",
              "      <td>-0.020522</td>\n",
              "    </tr>\n",
              "    <tr>\n",
              "      <th>2</th>\n",
              "      <td>2.586867</td>\n",
              "      <td>-1.014709</td>\n",
              "      <td>1.092784</td>\n",
              "      <td>0.864789</td>\n",
              "      <td>-0.790686</td>\n",
              "      <td>0.398612</td>\n",
              "      <td>0.076673</td>\n",
              "      <td>0.841009</td>\n",
              "      <td>-1.013751</td>\n",
              "      <td>-0.050838</td>\n",
              "      <td>-0.224000</td>\n",
              "      <td>-0.147957</td>\n",
              "      <td>0.090006</td>\n",
              "    </tr>\n",
              "    <tr>\n",
              "      <th>3</th>\n",
              "      <td>3.883489</td>\n",
              "      <td>-2.797932</td>\n",
              "      <td>-0.042166</td>\n",
              "      <td>0.600178</td>\n",
              "      <td>-0.264936</td>\n",
              "      <td>0.380990</td>\n",
              "      <td>-0.100761</td>\n",
              "      <td>-0.917172</td>\n",
              "      <td>0.037920</td>\n",
              "      <td>0.052311</td>\n",
              "      <td>-0.570746</td>\n",
              "      <td>0.385619</td>\n",
              "      <td>-0.382676</td>\n",
              "    </tr>\n",
              "    <tr>\n",
              "      <th>4</th>\n",
              "      <td>0.974746</td>\n",
              "      <td>-1.118313</td>\n",
              "      <td>2.417194</td>\n",
              "      <td>-0.137793</td>\n",
              "      <td>0.427157</td>\n",
              "      <td>-0.226824</td>\n",
              "      <td>0.636302</td>\n",
              "      <td>0.070017</td>\n",
              "      <td>0.162161</td>\n",
              "      <td>0.238015</td>\n",
              "      <td>0.473560</td>\n",
              "      <td>-0.049123</td>\n",
              "      <td>-0.032242</td>\n",
              "    </tr>\n",
              "  </tbody>\n",
              "</table>\n",
              "</div>"
            ],
            "text/plain": [
              "         0         1         2         3         4         5         6   \\\n",
              "0  3.459757 -1.658053  0.082919 -0.084664  0.709117  0.001396  0.779608   \n",
              "1  2.367190  0.263031 -1.969243 -0.607071  0.518867 -1.050915  0.400211   \n",
              "2  2.586867 -1.014709  1.092784  0.864789 -0.790686  0.398612  0.076673   \n",
              "3  3.883489 -2.797932 -0.042166  0.600178 -0.264936  0.380990 -0.100761   \n",
              "4  0.974746 -1.118313  2.417194 -0.137793  0.427157 -0.226824  0.636302   \n",
              "\n",
              "         7         8         9         10        11        12  \n",
              "0  0.470258  0.805707  0.801911 -0.262571 -0.919710 -0.251601  \n",
              "1 -0.724923 -0.598218  0.573288 -0.094103 -0.235673 -0.020522  \n",
              "2  0.841009 -1.013751 -0.050838 -0.224000 -0.147957  0.090006  \n",
              "3 -0.917172  0.037920  0.052311 -0.570746  0.385619 -0.382676  \n",
              "4  0.070017  0.162161  0.238015  0.473560 -0.049123 -0.032242  "
            ]
          },
          "execution_count": 15,
          "metadata": {},
          "output_type": "execute_result"
        }
      ],
      "source": [
        "from sklearn.decomposition import PCA\n",
        "\n",
        "pca=PCA()\n",
        "pca_components = pd.DataFrame(pca.fit_transform(df_scaled))\n",
        "pca_components.head()"
      ]
    },
    {
      "cell_type": "code",
      "execution_count": 16,
      "metadata": {
        "colab": {
          "base_uri": "https://localhost:8080/"
        },
        "id": "OsXp_69dU4Xg",
        "outputId": "ee2422ad-1bcc-451b-97ec-e47a310880a2"
      },
      "outputs": [
        {
          "data": {
            "text/plain": [
              "array([0.37086336, 0.20332931, 0.0954301 , 0.0694187 , 0.06023354,\n",
              "       0.04419032, 0.03910542, 0.02895931, 0.02478652, 0.02137276,\n",
              "       0.01903084, 0.01554002, 0.00773979])"
            ]
          },
          "execution_count": 16,
          "metadata": {},
          "output_type": "execute_result"
        }
      ],
      "source": [
        "# The amount of variance that each PCA explains is\n",
        "pca.explained_variance_ratio_"
      ]
    },
    {
      "cell_type": "code",
      "execution_count": 17,
      "metadata": {
        "colab": {
          "base_uri": "https://localhost:8080/"
        },
        "id": "A5vpJOINVC0X",
        "outputId": "2e580e50-ee2f-48bc-f1b7-b3f2106e3977"
      },
      "outputs": [
        {
          "data": {
            "text/plain": [
              "array([37.09, 57.42, 66.96, 73.9 , 79.92, 84.34, 88.25, 91.15, 93.63,\n",
              "       95.77, 97.67, 99.22, 99.99])"
            ]
          },
          "execution_count": 17,
          "metadata": {},
          "output_type": "execute_result"
        }
      ],
      "source": [
        "np.cumsum(np.round(pca.explained_variance_ratio_, decimals = 4)*100)"
      ]
    },
    {
      "cell_type": "code",
      "execution_count": 18,
      "metadata": {
        "colab": {
          "base_uri": "https://localhost:8080/"
        },
        "id": "aIhisGenVWHC",
        "outputId": "42d674d9-fe0e-455d-c947-583746cee07b"
      },
      "outputs": [
        {
          "data": {
            "text/plain": [
              "array([[ 0.15843193, -0.22949146, -0.00900944, -0.28184217,  0.12804436,\n",
              "         0.39166918,  0.42149646, -0.28918228,  0.31811799, -0.05327639,\n",
              "         0.29483535,  0.36947873,  0.29008829],\n",
              "       [-0.4605688 , -0.24730811, -0.31509024,  0.03817107, -0.37576585,\n",
              "        -0.03571682,  0.02510589, -0.03199428,  0.00391039, -0.51258578,\n",
              "         0.25254414,  0.17726316, -0.35197492],\n",
              "       [-0.15281202,  0.04325352,  0.68696786,  0.55094626,  0.1771668 ,\n",
              "         0.15251558,  0.11028367,  0.14399895,  0.10486423, -0.24140296,\n",
              "         0.10878308,  0.1509669 , -0.08869653],\n",
              "       [-0.05291463,  0.56164356, -0.17780202,  0.14569654, -0.19119538,\n",
              "         0.17761175,  0.15204262, -0.22795429,  0.43341081,  0.05437804,\n",
              "        -0.451599  ,  0.18597017, -0.23749806],\n",
              "       [-0.21657107,  0.08838287, -0.05992484, -0.0050366 ,  0.61489746,\n",
              "        -0.11477611, -0.0457467 , -0.63643691, -0.30447061, -0.16219391,\n",
              "        -0.07892118,  0.0118019 , -0.13369702],\n",
              "       [-0.19262656, -0.6587774 , -0.0697414 ,  0.25070055,  0.11485849,\n",
              "         0.03412236,  0.0120357 , -0.12565372,  0.38554294,  0.3191073 ,\n",
              "        -0.29736204, -0.2773803 , -0.12274098],\n",
              "       [-0.38229318,  0.13673384, -0.13687148, -0.36517154,  0.5095098 ,\n",
              "         0.13796718,  0.12118023,  0.57768039,  0.17587594, -0.01608978,\n",
              "        -0.03992475, -0.05104287, -0.14368952],\n",
              "       [ 0.13242105,  0.16573759, -0.06234048,  0.04418012,  0.15895063,\n",
              "        -0.49823122, -0.21694018, -0.07655156,  0.62615531, -0.20582286,\n",
              "         0.36582991, -0.20674963,  0.10827836],\n",
              "       [ 0.56755988, -0.0866349 , -0.45007657,  0.40578633,  0.29589994,\n",
              "         0.11370548,  0.0258653 ,  0.21795735, -0.08915808, -0.07251071,\n",
              "         0.09580334,  0.163926  , -0.32437881],\n",
              "       [ 0.33529546, -0.25187219,  0.24443807, -0.34660602,  0.02392894,\n",
              "        -0.12361751, -0.15357777,  0.06021537,  0.10801328, -0.51360441,\n",
              "        -0.54078979,  0.14139504, -0.11525293],\n",
              "       [ 0.21915653,  0.04590811,  0.29040544, -0.30957711, -0.08968147,\n",
              "         0.14375877,  0.11448318, -0.15945112,  0.02701479,  0.13630663,\n",
              "         0.28425281, -0.36314997, -0.68590253],\n",
              "       [ 0.05337573,  0.08849021, -0.13699674,  0.10342522, -0.02963013,\n",
              "         0.50419443, -0.00270839, -0.04664196, -0.0257984 , -0.44930271,\n",
              "        -0.06305378, -0.65179611,  0.26689028],\n",
              "       [ 0.05921985,  0.00323237, -0.02452086,  0.06947942, -0.03541103,\n",
              "        -0.45367015,  0.82769366,  0.05919562, -0.12076548, -0.11369745,\n",
              "        -0.13050897, -0.22062881,  0.04670497]])"
            ]
          },
          "execution_count": 18,
          "metadata": {},
          "output_type": "execute_result"
        }
      ],
      "source": [
        "pca.components_"
      ]
    },
    {
      "cell_type": "code",
      "execution_count": 19,
      "metadata": {
        "colab": {
          "base_uri": "https://localhost:8080/",
          "height": 452
        },
        "id": "Lh2yV16HVcZ7",
        "outputId": "7cb6db39-a7da-4f13-e767-924bf51ac440"
      },
      "outputs": [
        {
          "data": {
            "image/png": "[encoded data removed]",
            "text/plain": [
              "<Figure size 640x480 with 1 Axes>"
            ]
          },
          "metadata": {},
          "output_type": "display_data"
        }
      ],
      "source": [
        "# Variance plot for PCA components obtained  Scree plot\n",
        "plt.plot(np.cumsum(np.round(pca.explained_variance_ratio_, decimals = 4)*100), color=\"red\")\n",
        "plt.title('Scree plot')\n",
        "plt.show()"
      ]
    },
    {
      "cell_type": "code",
      "execution_count": 20,
      "metadata": {
        "colab": {
          "base_uri": "https://localhost:8080/"
        },
        "id": "qVDx33nvXR0g",
        "outputId": "f3825474-83a2-49ca-caf3-db6a65872472"
      },
      "outputs": [
        {
          "data": {
            "text/plain": [
              "Index(['Type', 'Alcohol', 'Malic', 'Ash', 'Alcalinity', 'Magnesium', 'Phenols',\n",
              "       'Flavanoids', 'Nonflavanoids', 'Proanthocyanins', 'Color', 'Hue',\n",
              "       'Dilution', 'Proline'],\n",
              "      dtype='object')"
            ]
          },
          "execution_count": 20,
          "metadata": {},
          "output_type": "execute_result"
        }
      ],
      "source": [
        "df.columns"
      ]
    },
    {
      "cell_type": "code",
      "execution_count": 21,
      "metadata": {
        "colab": {
          "base_uri": "https://localhost:8080/",
          "height": 206
        },
        "id": "vozXxSLQVovw",
        "outputId": "a2740c88-5031-416b-fc64-077182e8b75f"
      },
      "outputs": [
        {
          "data": {
            "text/html": [
              "<div>\n",
              "<style scoped>\n",
              "    .dataframe tbody tr th:only-of-type {\n",
              "        vertical-align: middle;\n",
              "    }\n",
              "\n",
              "    .dataframe tbody tr th {\n",
              "        vertical-align: top;\n",
              "    }\n",
              "\n",
              "    .dataframe thead th {\n",
              "        text-align: right;\n",
              "    }\n",
              "</style>\n",
              "<table border=\"1\" class=\"dataframe\">\n",
              "  <thead>\n",
              "    <tr style=\"text-align: right;\">\n",
              "      <th></th>\n",
              "      <th>Type</th>\n",
              "      <th>PCA1</th>\n",
              "      <th>PCA2</th>\n",
              "      <th>PCA3</th>\n",
              "      <th>PCA4</th>\n",
              "      <th>PCA5</th>\n",
              "      <th>PCA6</th>\n",
              "    </tr>\n",
              "  </thead>\n",
              "  <tbody>\n",
              "    <tr>\n",
              "      <th>0</th>\n",
              "      <td>1</td>\n",
              "      <td>3.459757</td>\n",
              "      <td>-1.658053</td>\n",
              "      <td>0.082919</td>\n",
              "      <td>-0.084664</td>\n",
              "      <td>0.709117</td>\n",
              "      <td>0.001396</td>\n",
              "    </tr>\n",
              "    <tr>\n",
              "      <th>1</th>\n",
              "      <td>1</td>\n",
              "      <td>2.367190</td>\n",
              "      <td>0.263031</td>\n",
              "      <td>-1.969243</td>\n",
              "      <td>-0.607071</td>\n",
              "      <td>0.518867</td>\n",
              "      <td>-1.050915</td>\n",
              "    </tr>\n",
              "    <tr>\n",
              "      <th>2</th>\n",
              "      <td>1</td>\n",
              "      <td>2.586867</td>\n",
              "      <td>-1.014709</td>\n",
              "      <td>1.092784</td>\n",
              "      <td>0.864789</td>\n",
              "      <td>-0.790686</td>\n",
              "      <td>0.398612</td>\n",
              "    </tr>\n",
              "    <tr>\n",
              "      <th>3</th>\n",
              "      <td>1</td>\n",
              "      <td>3.883489</td>\n",
              "      <td>-2.797932</td>\n",
              "      <td>-0.042166</td>\n",
              "      <td>0.600178</td>\n",
              "      <td>-0.264936</td>\n",
              "      <td>0.380990</td>\n",
              "    </tr>\n",
              "    <tr>\n",
              "      <th>4</th>\n",
              "      <td>1</td>\n",
              "      <td>0.974746</td>\n",
              "      <td>-1.118313</td>\n",
              "      <td>2.417194</td>\n",
              "      <td>-0.137793</td>\n",
              "      <td>0.427157</td>\n",
              "      <td>-0.226824</td>\n",
              "    </tr>\n",
              "  </tbody>\n",
              "</table>\n",
              "</div>"
            ],
            "text/plain": [
              "   Type      PCA1      PCA2      PCA3      PCA4      PCA5      PCA6\n",
              "0     1  3.459757 -1.658053  0.082919 -0.084664  0.709117  0.001396\n",
              "1     1  2.367190  0.263031 -1.969243 -0.607071  0.518867 -1.050915\n",
              "2     1  2.586867 -1.014709  1.092784  0.864789 -0.790686  0.398612\n",
              "3     1  3.883489 -2.797932 -0.042166  0.600178 -0.264936  0.380990\n",
              "4     1  0.974746 -1.118313  2.417194 -0.137793  0.427157 -0.226824"
            ]
          },
          "execution_count": 21,
          "metadata": {},
          "output_type": "execute_result"
        }
      ],
      "source": [
        "df_analysis = pd.DataFrame()\n",
        "df_analysis['Type'] = df['Type']\n",
        "df_analysis[['PCA1', 'PCA2', 'PCA3', 'PCA4', 'PCA5', 'PCA6']] = pca_components.iloc[:,:6]\n",
        "df_analysis.head()"
      ]
    },
    {
      "cell_type": "code",
      "execution_count": 22,
      "metadata": {
        "colab": {
          "base_uri": "https://localhost:8080/",
          "height": 466
        },
        "id": "2nyRLtCoXbKB",
        "outputId": "21727b96-adf1-4a7b-a5fe-bd5f5b84295f"
      },
      "outputs": [
        {
          "data": {
            "text/plain": [
              "<Axes: xlabel='PCA1', ylabel='PCA2'>"
            ]
          },
          "execution_count": 22,
          "metadata": {},
          "output_type": "execute_result"
        },
        {
          "data": {
            "image/png": "[encoded data removed]",
            "text/plain": [
              "<Figure size 640x480 with 1 Axes>"
            ]
          },
          "metadata": {},
          "output_type": "display_data"
        }
      ],
      "source": [
        "import seaborn as sns\n",
        "sns.scatterplot(data=df_analysis, x='PCA1', y='PCA2', hue = 'Type')"
      ]
    },
    {
      "cell_type": "markdown",
      "metadata": {
        "id": "lSiNuHhSYCei"
      },
      "source": [
        "# Hierarchical/Agglomerative_Clustering"
      ]
    },
    {
      "cell_type": "code",
      "execution_count": 23,
      "metadata": {
        "colab": {
          "base_uri": "https://localhost:8080/",
          "height": 429
        },
        "id": "89oH6m-4XsuJ",
        "outputId": "d12256c6-e553-47c5-ec84-046be4d1fb46"
      },
      "outputs": [
        {
          "data": {
            "image/png": "[encoded data removed]",
            "text/plain": [
              "<Figure size 640x480 with 1 Axes>"
            ]
          },
          "metadata": {},
          "output_type": "display_data"
        }
      ],
      "source": [
        "from scipy.cluster.hierarchy import dendrogram, linkage\n",
        "dendo = dendrogram(linkage(df_analysis.iloc[:,1:], method='complete'))"
      ]
    },
    {
      "cell_type": "code",
      "execution_count": 24,
      "metadata": {
        "colab": {
          "base_uri": "https://localhost:8080/",
          "height": 363
        },
        "id": "zQvStSMsYKgr",
        "outputId": "406aec6d-9d77-4f24-b3a8-0a6df174315f"
      },
      "outputs": [
        {
          "data": {
            "text/html": [
              "<div>\n",
              "<style scoped>\n",
              "    .dataframe tbody tr th:only-of-type {\n",
              "        vertical-align: middle;\n",
              "    }\n",
              "\n",
              "    .dataframe tbody tr th {\n",
              "        vertical-align: top;\n",
              "    }\n",
              "\n",
              "    .dataframe thead th {\n",
              "        text-align: right;\n",
              "    }\n",
              "</style>\n",
              "<table border=\"1\" class=\"dataframe\">\n",
              "  <thead>\n",
              "    <tr style=\"text-align: right;\">\n",
              "      <th></th>\n",
              "      <th>Type</th>\n",
              "      <th>Hierachical_Predicted_Cluster</th>\n",
              "    </tr>\n",
              "  </thead>\n",
              "  <tbody>\n",
              "    <tr>\n",
              "      <th>65</th>\n",
              "      <td>2</td>\n",
              "      <td>2</td>\n",
              "    </tr>\n",
              "    <tr>\n",
              "      <th>159</th>\n",
              "      <td>3</td>\n",
              "      <td>2</td>\n",
              "    </tr>\n",
              "    <tr>\n",
              "      <th>102</th>\n",
              "      <td>2</td>\n",
              "      <td>2</td>\n",
              "    </tr>\n",
              "    <tr>\n",
              "      <th>71</th>\n",
              "      <td>2</td>\n",
              "      <td>2</td>\n",
              "    </tr>\n",
              "    <tr>\n",
              "      <th>74</th>\n",
              "      <td>2</td>\n",
              "      <td>2</td>\n",
              "    </tr>\n",
              "    <tr>\n",
              "      <th>79</th>\n",
              "      <td>2</td>\n",
              "      <td>2</td>\n",
              "    </tr>\n",
              "    <tr>\n",
              "      <th>84</th>\n",
              "      <td>2</td>\n",
              "      <td>2</td>\n",
              "    </tr>\n",
              "    <tr>\n",
              "      <th>109</th>\n",
              "      <td>2</td>\n",
              "      <td>2</td>\n",
              "    </tr>\n",
              "    <tr>\n",
              "      <th>158</th>\n",
              "      <td>3</td>\n",
              "      <td>2</td>\n",
              "    </tr>\n",
              "    <tr>\n",
              "      <th>98</th>\n",
              "      <td>2</td>\n",
              "      <td>2</td>\n",
              "    </tr>\n",
              "  </tbody>\n",
              "</table>\n",
              "</div>"
            ],
            "text/plain": [
              "     Type  Hierachical_Predicted_Cluster\n",
              "65      2                              2\n",
              "159     3                              2\n",
              "102     2                              2\n",
              "71      2                              2\n",
              "74      2                              2\n",
              "79      2                              2\n",
              "84      2                              2\n",
              "109     2                              2\n",
              "158     3                              2\n",
              "98      2                              2"
            ]
          },
          "execution_count": 24,
          "metadata": {},
          "output_type": "execute_result"
        }
      ],
      "source": [
        "# create model for hierachical clusters\n",
        "from sklearn.cluster import AgglomerativeClustering\n",
        "model = AgglomerativeClustering(n_clusters=3, metric='euclidean', linkage = 'complete')\n",
        "\n",
        "# fitting data\n",
        "model.fit(df_analysis.iloc[:,1:])\n",
        "\n",
        "# prediction\n",
        "y_pred= model.fit_predict(df_analysis.iloc[:,1:])\n",
        "\n",
        "# storing predcited data in main data\n",
        "df_analysis['Hierachical_Predicted_Cluster']=y_pred\n",
        "\n",
        "# sorting of data based on predicted data\n",
        "df_analysis=df_analysis.sort_values('Hierachical_Predicted_Cluster')\n",
        "\n",
        "df_analysis.iloc[:,[0,-1]].tail(10)"
      ]
    },
    {
      "cell_type": "code",
      "execution_count": 25,
      "metadata": {
        "colab": {
          "base_uri": "https://localhost:8080/"
        },
        "id": "DC4L_UsCY94j",
        "outputId": "87cded57-e5ff-42b8-b4b7-76381c1c97a6"
      },
      "outputs": [
        {
          "data": {
            "text/plain": [
              "Counter({0: 86, 1: 76, 2: 16})"
            ]
          },
          "execution_count": 25,
          "metadata": {},
          "output_type": "execute_result"
        }
      ],
      "source": [
        "import collections\n",
        "\n",
        "collections.Counter(model.labels_)"
      ]
    },
    {
      "cell_type": "code",
      "execution_count": 26,
      "metadata": {
        "colab": {
          "base_uri": "https://localhost:8080/"
        },
        "id": "WXhBieI7ZT_m",
        "outputId": "7a7dc6e1-2d14-4e15-ec7c-6f6bb5c560cf"
      },
      "outputs": [
        {
          "data": {
            "text/plain": [
              "Type\n",
              "2    71\n",
              "1    59\n",
              "3    48\n",
              "Name: count, dtype: int64"
            ]
          },
          "execution_count": 26,
          "metadata": {},
          "output_type": "execute_result"
        }
      ],
      "source": [
        "df['Type'].value_counts()"
      ]
    },
    {
      "cell_type": "code",
      "execution_count": 27,
      "metadata": {
        "colab": {
          "base_uri": "https://localhost:8080/",
          "height": 81
        },
        "id": "MvGOeTD8Zwog",
        "outputId": "7c811d18-fb3c-4886-d5ee-0b72636015f2"
      },
      "outputs": [
        {
          "data": {
            "text/html": [
              "<div>\n",
              "<style scoped>\n",
              "    .dataframe tbody tr th:only-of-type {\n",
              "        vertical-align: middle;\n",
              "    }\n",
              "\n",
              "    .dataframe tbody tr th {\n",
              "        vertical-align: top;\n",
              "    }\n",
              "\n",
              "    .dataframe thead th {\n",
              "        text-align: right;\n",
              "    }\n",
              "</style>\n",
              "<table border=\"1\" class=\"dataframe\">\n",
              "  <thead>\n",
              "    <tr style=\"text-align: right;\">\n",
              "      <th></th>\n",
              "      <th>Type</th>\n",
              "      <th>PCA1</th>\n",
              "      <th>PCA2</th>\n",
              "      <th>PCA3</th>\n",
              "      <th>PCA4</th>\n",
              "      <th>PCA5</th>\n",
              "      <th>PCA6</th>\n",
              "      <th>Hierachical_Predicted_Cluster</th>\n",
              "    </tr>\n",
              "  </thead>\n",
              "  <tbody>\n",
              "    <tr>\n",
              "      <th>0</th>\n",
              "      <td>1</td>\n",
              "      <td>3.459757</td>\n",
              "      <td>-1.658053</td>\n",
              "      <td>0.082919</td>\n",
              "      <td>-0.084664</td>\n",
              "      <td>0.709117</td>\n",
              "      <td>0.001396</td>\n",
              "      <td>0</td>\n",
              "    </tr>\n",
              "  </tbody>\n",
              "</table>\n",
              "</div>"
            ],
            "text/plain": [
              "   Type      PCA1      PCA2      PCA3      PCA4      PCA5      PCA6  \\\n",
              "0     1  3.459757 -1.658053  0.082919 -0.084664  0.709117  0.001396   \n",
              "\n",
              "   Hierachical_Predicted_Cluster  \n",
              "0                              0  "
            ]
          },
          "execution_count": 27,
          "metadata": {},
          "output_type": "execute_result"
        }
      ],
      "source": [
        "df_analysis.head(1)"
      ]
    },
    {
      "cell_type": "code",
      "execution_count": 28,
      "metadata": {
        "colab": {
          "base_uri": "https://localhost:8080/",
          "height": 488
        },
        "id": "Y8mUOQQSZaFJ",
        "outputId": "255cefe3-6203-48c7-8a26-d727b0ae8ce3"
      },
      "outputs": [
        {
          "data": {
            "image/png": "[encoded data removed]",
            "text/plain": [
              "<Figure size 640x480 with 1 Axes>"
            ]
          },
          "metadata": {},
          "output_type": "display_data"
        }
      ],
      "source": [
        "# Visualize the clustered data points\n",
        "plt.scatter(df_analysis.iloc[:, 0], df_analysis.Hierachical_Predicted_Cluster, c=df_analysis.Hierachical_Predicted_Cluster, cmap='rainbow')\n",
        "plt.title('Hierachical Clustering Results')\n",
        "plt.xlabel('Type')\n",
        "plt.ylabel('Hierachical_Predicted_Cluster')\n",
        "plt.xticks(rotation=90);\n"
      ]
    },
    {
      "cell_type": "code",
      "execution_count": 29,
      "metadata": {
        "colab": {
          "base_uri": "https://localhost:8080/",
          "height": 478
        },
        "id": "1gaydf4uaCEL",
        "outputId": "54ae9d00-6c50-44ea-d019-edad7f908d01"
      },
      "outputs": [
        {
          "data": {
            "image/png": "[encoded data removed]",
            "text/plain": [
              "<Figure size 640x480 with 1 Axes>"
            ]
          },
          "metadata": {},
          "output_type": "display_data"
        }
      ],
      "source": [
        "# Visualize the clustered data points\n",
        "plt.scatter(df_analysis.iloc[:, 1], df_analysis.Hierachical_Predicted_Cluster, c=df_analysis.Hierachical_Predicted_Cluster, cmap='rainbow')\n",
        "plt.title('Hierachical Clustering Results')\n",
        "plt.xlabel('PCA1')\n",
        "plt.ylabel('Hierachical_Predicted_Cluster')\n",
        "plt.xticks(rotation=90);\n"
      ]
    },
    {
      "cell_type": "code",
      "execution_count": 30,
      "metadata": {
        "colab": {
          "base_uri": "https://localhost:8080/"
        },
        "id": "y3onFVCBadfX",
        "outputId": "ecf6d6f7-5af4-4ce4-bd63-2dd43f9ae74f"
      },
      "outputs": [
        {
          "name": "stdout",
          "output_type": "stream",
          "text": [
            "silhouette_score for Hierarchical Model is: 1.14 %\n"
          ]
        }
      ],
      "source": [
        "from sklearn.metrics import silhouette_score\n",
        "print('silhouette_score for Hierarchical Model is:', round(silhouette_score(df_analysis.iloc[:, 1:7], y_pred)*100, 2), '%')"
      ]
    },
    {
      "cell_type": "markdown",
      "metadata": {
        "id": "rZAHxdgqdF8e"
      },
      "source": [
        "#K-Means"
      ]
    },
    {
      "cell_type": "code",
      "execution_count": 31,
      "metadata": {
        "colab": {
          "base_uri": "https://localhost:8080/",
          "height": 489
        },
        "id": "aHN0tc6RcYwk",
        "outputId": "23562d03-2473-4b8b-fe26-c35deda56f5f"
      },
      "outputs": [
        {
          "data": {
            "text/plain": [
              "Text(0, 0.5, 'WCSS')"
            ]
          },
          "execution_count": 31,
          "metadata": {},
          "output_type": "execute_result"
        },
        {
          "data": {
            "image/png": "[encoded data removed]",
            "text/plain": [
              "<Figure size 640x480 with 1 Axes>"
            ]
          },
          "metadata": {},
          "output_type": "display_data"
        }
      ],
      "source": [
        "# How to find optimum number of  cluster\n",
        "#The K-means algorithm aims to choose centroids that minimise the inertia, or within-cluster sum-of-squares criterion:\n",
        "\n",
        "from sklearn.cluster import KMeans\n",
        "wcss = [] # list to contain inertia for different no. of clusters\n",
        "for k in range(1, 11):\n",
        "    kmeans = KMeans(n_clusters=k, n_init= 'auto' , random_state=42)\n",
        "    kmeans.fit(df_analysis.iloc[:, 1:7])\n",
        "    wcss.append(kmeans.inertia_)\n",
        "\n",
        "plt.plot(range(1, 11), wcss)\n",
        "plt.title('Elbow Method')\n",
        "plt.xlabel('Number of clusters')\n",
        "plt.ylabel('WCSS')"
      ]
    },
    {
      "cell_type": "markdown",
      "metadata": {
        "id": "4Vo05eyleQ9q"
      },
      "source": [
        "Elbow plot suggest 3 clusters"
      ]
    },
    {
      "cell_type": "code",
      "execution_count": 32,
      "metadata": {
        "colab": {
          "base_uri": "https://localhost:8080/",
          "height": 206
        },
        "id": "0T23gKa9d3bn",
        "outputId": "f9b6283f-4529-430c-f618-7d45f0c85e18"
      },
      "outputs": [
        {
          "data": {
            "text/html": [
              "<div>\n",
              "<style scoped>\n",
              "    .dataframe tbody tr th:only-of-type {\n",
              "        vertical-align: middle;\n",
              "    }\n",
              "\n",
              "    .dataframe tbody tr th {\n",
              "        vertical-align: top;\n",
              "    }\n",
              "\n",
              "    .dataframe thead th {\n",
              "        text-align: right;\n",
              "    }\n",
              "</style>\n",
              "<table border=\"1\" class=\"dataframe\">\n",
              "  <thead>\n",
              "    <tr style=\"text-align: right;\">\n",
              "      <th></th>\n",
              "      <th>Type</th>\n",
              "      <th>KMeans_Predicted_Cluster</th>\n",
              "    </tr>\n",
              "  </thead>\n",
              "  <tbody>\n",
              "    <tr>\n",
              "      <th>124</th>\n",
              "      <td>2</td>\n",
              "      <td>2</td>\n",
              "    </tr>\n",
              "    <tr>\n",
              "      <th>99</th>\n",
              "      <td>2</td>\n",
              "      <td>2</td>\n",
              "    </tr>\n",
              "    <tr>\n",
              "      <th>158</th>\n",
              "      <td>3</td>\n",
              "      <td>2</td>\n",
              "    </tr>\n",
              "    <tr>\n",
              "      <th>65</th>\n",
              "      <td>2</td>\n",
              "      <td>2</td>\n",
              "    </tr>\n",
              "    <tr>\n",
              "      <th>98</th>\n",
              "      <td>2</td>\n",
              "      <td>2</td>\n",
              "    </tr>\n",
              "  </tbody>\n",
              "</table>\n",
              "</div>"
            ],
            "text/plain": [
              "     Type  KMeans_Predicted_Cluster\n",
              "124     2                         2\n",
              "99      2                         2\n",
              "158     3                         2\n",
              "65      2                         2\n",
              "98      2                         2"
            ]
          },
          "execution_count": 32,
          "metadata": {},
          "output_type": "execute_result"
        }
      ],
      "source": [
        "## Create a K-means clustering model\n",
        "\n",
        "from sklearn.cluster import KMeans\n",
        "\n",
        "kmeans = KMeans(n_clusters = 3, init='k-means++', n_init = 'auto', random_state=42, algorithm= \"lloyd\")\n",
        "\n",
        "kmeans.fit(df_analysis.iloc[:, 1:7])\n",
        "\n",
        "KMeans_Predicted_Cluster= model.fit_predict(df_analysis.iloc[:, 1:7]) # can also be fetched from model.labels_\n",
        "\n",
        "# storing predcited data in main data\n",
        "df_analysis['KMeans_Predicted_Cluster']=KMeans_Predicted_Cluster\n",
        "\n",
        "# sorting of data based on predicted data\n",
        "df_analysis=df_analysis.sort_values('KMeans_Predicted_Cluster')\n",
        "\n",
        "df_analysis.iloc[:,[0,-1]].tail()"
      ]
    },
    {
      "cell_type": "code",
      "execution_count": 33,
      "metadata": {
        "colab": {
          "base_uri": "https://localhost:8080/"
        },
        "id": "mlcWBFw1eyMH",
        "outputId": "eb04a38b-469e-4c26-d539-7d50143fa6e2"
      },
      "outputs": [
        {
          "data": {
            "text/plain": [
              "Counter({2: 66, 0: 61, 1: 51})"
            ]
          },
          "execution_count": 33,
          "metadata": {},
          "output_type": "execute_result"
        }
      ],
      "source": [
        "collections.Counter(kmeans.labels_)"
      ]
    },
    {
      "cell_type": "code",
      "execution_count": 34,
      "metadata": {
        "colab": {
          "base_uri": "https://localhost:8080/"
        },
        "id": "MjfMZh2Ae_Nk",
        "outputId": "1183a74c-e0cf-4987-e51f-21cf36b481a3"
      },
      "outputs": [
        {
          "data": {
            "text/plain": [
              "Type\n",
              "2    71\n",
              "1    59\n",
              "3    48\n",
              "Name: count, dtype: int64"
            ]
          },
          "execution_count": 34,
          "metadata": {},
          "output_type": "execute_result"
        }
      ],
      "source": [
        "df['Type'].value_counts()"
      ]
    },
    {
      "cell_type": "code",
      "execution_count": 35,
      "metadata": {
        "colab": {
          "base_uri": "https://localhost:8080/",
          "height": 488
        },
        "id": "vgfGrzIOfHIP",
        "outputId": "d2a2fd07-b59d-4830-f179-3c39b3862c23"
      },
      "outputs": [
        {
          "data": {
            "image/png": "[encoded data removed]",
            "text/plain": [
              "<Figure size 640x480 with 1 Axes>"
            ]
          },
          "metadata": {},
          "output_type": "display_data"
        }
      ],
      "source": [
        "# Visualize the clustered data points\n",
        "plt.scatter(df_analysis.iloc[:, 0], df_analysis.KMeans_Predicted_Cluster, c=df_analysis.KMeans_Predicted_Cluster, cmap='rainbow')\n",
        "plt.title('KMeans Clustering Results')\n",
        "plt.xlabel('Type')\n",
        "plt.ylabel('KMeans_Predicted_Cluster')\n",
        "plt.xticks(rotation=90);\n"
      ]
    },
    {
      "cell_type": "code",
      "execution_count": 36,
      "metadata": {
        "colab": {
          "base_uri": "https://localhost:8080/"
        },
        "id": "4U8-WxdHfaGp",
        "outputId": "335231df-a2bd-4e3f-8bc2-48d8e20a0490"
      },
      "outputs": [
        {
          "name": "stdout",
          "output_type": "stream",
          "text": [
            "silhouette_score for KMeans Model is: 16.95 %\n"
          ]
        }
      ],
      "source": [
        "print('silhouette_score for KMeans Model is:', round(silhouette_score(df_analysis.iloc[:, 1:7], KMeans_Predicted_Cluster)*100, 2), '%')"
      ]
    },
    {
      "cell_type": "markdown",
      "metadata": {
        "id": "81j63RsYoGwH"
      },
      "source": [
        "## Since KMeans is performing better on this data, we will consider Kmeans for future considerations"
      ]
    },
    {
      "cell_type": "markdown",
      "metadata": {
        "id": "hxJR0gUWy7hE"
      },
      "source": [
        "## Now lets us check for silhouette_score for different PCA(n_components)"
      ]
    },
    {
      "cell_type": "markdown",
      "metadata": {
        "id": "l--SVGrd6Yeo"
      },
      "source": [
        "#n_components= 2"
      ]
    },
    {
      "cell_type": "code",
      "execution_count": 37,
      "metadata": {
        "colab": {
          "base_uri": "https://localhost:8080/"
        },
        "id": "I0Qd2HqX4GWC",
        "outputId": "6b5873de-2a3f-40f0-d770-4b2faac343b4"
      },
      "outputs": [
        {
          "name": "stdout",
          "output_type": "stream",
          "text": [
            "hierachical labels: Counter({0: 80, 1: 59, 2: 39})\n",
            "silhouette_score for Hierarchical Model is: 38.98 %\n",
            "KMeans labels: Counter({0: 68, 2: 61, 1: 49})\n",
            "silhouette_score for KMeans Model is: 38.98 %\n"
          ]
        }
      ],
      "source": [
        "pca=PCA(n_components= 2)\n",
        "pca_components = pd.DataFrame(pca.fit_transform(df_scaled))\n",
        "\n",
        "df_pca = pd.DataFrame()\n",
        "df_pca['Type'] = df['Type']\n",
        "df_pca[['PCA1', 'PCA2']] = pca_components\n",
        "\n",
        "\n",
        "# create model for hierachical clusters\n",
        "model = AgglomerativeClustering(n_clusters=3, metric='euclidean', linkage = 'complete')\n",
        "\n",
        "# fitting data\n",
        "model.fit(df_pca.iloc[:,1:])\n",
        "\n",
        "# prediction\n",
        "y_pred= model.fit_predict(df_pca.iloc[:,1:])\n",
        "\n",
        "print('hierachical labels:', collections.Counter(model.labels_))\n",
        "\n",
        "print('silhouette_score for Hierarchical Model is:', round(silhouette_score(df_pca.iloc[:, 1:3], y_pred)*100, 2), '%')\n",
        "\n",
        "## Create a K-means clustering model\n",
        "\n",
        "kmeans = KMeans(n_clusters = 3, init='k-means++', n_init = 'auto', random_state=42, algorithm= \"lloyd\")\n",
        "\n",
        "kmeans.fit(df_pca.iloc[:, 1:3])\n",
        "\n",
        "KMeans_Predicted_Cluster= model.fit_predict(df_pca.iloc[:, 1:3]) # can also be fetched from model.labels_\n",
        "\n",
        "# storing predcited data in main data\n",
        "df_pca['KMeans_Predicted_Cluster']=KMeans_Predicted_Cluster\n",
        "\n",
        "print('KMeans labels:', collections.Counter(kmeans.labels_))\n",
        "\n",
        "print('silhouette_score for KMeans Model is:', round(silhouette_score(df_pca.iloc[:, 1:3], KMeans_Predicted_Cluster)*100, 2), '%')"
      ]
    },
    {
      "cell_type": "markdown",
      "metadata": {
        "id": "kb4T3M-L6fHl"
      },
      "source": [
        "#n_components= 3"
      ]
    },
    {
      "cell_type": "code",
      "execution_count": 38,
      "metadata": {
        "colab": {
          "base_uri": "https://localhost:8080/"
        },
        "id": "mr5CVs5P5UqX",
        "outputId": "17d6929f-4ce6-4b8a-c6fa-0a82b405d759"
      },
      "outputs": [
        {
          "name": "stdout",
          "output_type": "stream",
          "text": [
            "hierachical labels: Counter({0: 87, 2: 46, 1: 45})\n",
            "silhouette_score for Hierarchical Model is: 39.98 %\n",
            "KMeans labels: Counter({0: 66, 2: 61, 1: 51})\n",
            "silhouette_score for KMeans Model is: 39.98 %\n"
          ]
        }
      ],
      "source": [
        "pca=PCA(n_components= 3)\n",
        "pca_components = pd.DataFrame(pca.fit_transform(df_scaled))\n",
        "\n",
        "df_pca = pd.DataFrame()\n",
        "df_pca['Type'] = df['Type']\n",
        "df_pca[['PCA1', 'PCA2', 'PCA3']] = pca_components\n",
        "\n",
        "\n",
        "# create model for hierachical clusters\n",
        "model = AgglomerativeClustering(n_clusters=3, metric='euclidean', linkage = 'complete')\n",
        "\n",
        "# fitting data\n",
        "model.fit(df_pca.iloc[:,1:])\n",
        "\n",
        "# prediction\n",
        "y_pred= model.fit_predict(df_pca.iloc[:,1:])\n",
        "\n",
        "print('hierachical labels:', collections.Counter(model.labels_))\n",
        "\n",
        "print('silhouette_score for Hierarchical Model is:', round(silhouette_score(df_pca.iloc[:, 1:4], y_pred)*100, 2), '%')\n",
        "\n",
        "## Create a K-means clustering model\n",
        "\n",
        "kmeans = KMeans(n_clusters = 3, init='k-means++', n_init = 'auto', random_state=42, algorithm= \"lloyd\")\n",
        "\n",
        "kmeans.fit(df_pca.iloc[:, 1:4])\n",
        "\n",
        "KMeans_Predicted_Cluster= model.fit_predict(df_pca.iloc[:, 1:4]) # can also be fetched from model.labels_\n",
        "\n",
        "# storing predcited data in main data\n",
        "df_pca['KMeans_Predicted_Cluster']=KMeans_Predicted_Cluster\n",
        "\n",
        "print('KMeans labels:', collections.Counter(kmeans.labels_))\n",
        "\n",
        "print('silhouette_score for KMeans Model is:', round(silhouette_score(df_pca.iloc[:, 1:4], KMeans_Predicted_Cluster)*100, 2), '%')"
      ]
    },
    {
      "cell_type": "markdown",
      "metadata": {
        "id": "E6WN-9l56gwH"
      },
      "source": [
        "#n_components= 4"
      ]
    },
    {
      "cell_type": "code",
      "execution_count": 39,
      "metadata": {
        "colab": {
          "base_uri": "https://localhost:8080/"
        },
        "id": "31ueZ-BT52nW",
        "outputId": "9e06e0a9-61cf-4754-dde3-1ff4d45a3934"
      },
      "outputs": [
        {
          "name": "stdout",
          "output_type": "stream",
          "text": [
            "hierachical labels: Counter({0: 81, 2: 50, 1: 47})\n",
            "silhouette_score for Hierarchical Model is: 28.47 %\n",
            "KMeans labels: Counter({0: 66, 2: 61, 1: 51})\n",
            "silhouette_score for KMeans Model is: 28.47 %\n"
          ]
        }
      ],
      "source": [
        "pca=PCA(n_components= 4)\n",
        "pca_components = pd.DataFrame(pca.fit_transform(df_scaled))\n",
        "\n",
        "df_pca = pd.DataFrame()\n",
        "df_pca['Type'] = df['Type']\n",
        "df_pca[['PCA1', 'PCA2', 'PCA3', 'PCA4']] = pca_components\n",
        "\n",
        "\n",
        "# create model for hierachical clusters\n",
        "model = AgglomerativeClustering(n_clusters=3, metric='euclidean', linkage = 'complete')\n",
        "\n",
        "# fitting data\n",
        "model.fit(df_pca.iloc[:,1:])\n",
        "\n",
        "# prediction\n",
        "y_pred= model.fit_predict(df_pca.iloc[:,1:])\n",
        "\n",
        "print('hierachical labels:', collections.Counter(model.labels_))\n",
        "\n",
        "print('silhouette_score for Hierarchical Model is:', round(silhouette_score(df_pca.iloc[:, 1:5], y_pred)*100, 2), '%')\n",
        "\n",
        "## Create a K-means clustering model\n",
        "\n",
        "kmeans = KMeans(n_clusters = 3, init='k-means++', n_init = 'auto', random_state=42, algorithm= \"lloyd\")\n",
        "\n",
        "kmeans.fit(df_pca.iloc[:, 1:5])\n",
        "\n",
        "KMeans_Predicted_Cluster= model.fit_predict(df_pca.iloc[:, 1:5]) # can also be fetched from model.labels_\n",
        "\n",
        "# storing predcited data in main data\n",
        "df_pca['KMeans_Predicted_Cluster']=KMeans_Predicted_Cluster\n",
        "\n",
        "print('KMeans labels:', collections.Counter(kmeans.labels_))\n",
        "\n",
        "print('silhouette_score for KMeans Model is:', round(silhouette_score(df_pca.iloc[:, 1:5], KMeans_Predicted_Cluster)*100, 2), '%')"
      ]
    },
    {
      "cell_type": "markdown",
      "metadata": {
        "id": "VQQoNVlB6it4"
      },
      "source": [
        "#n_components= 5"
      ]
    },
    {
      "cell_type": "code",
      "execution_count": 40,
      "metadata": {
        "colab": {
          "base_uri": "https://localhost:8080/"
        },
        "id": "cM6NO79G6GgQ",
        "outputId": "5f7974c6-f879-44d2-b9bd-3825724ae60f"
      },
      "outputs": [
        {
          "name": "stdout",
          "output_type": "stream",
          "text": [
            "hierachical labels: Counter({0: 84, 1: 83, 2: 11})\n",
            "silhouette_score for Hierarchical Model is: 19.47 %\n",
            "KMeans labels: Counter({0: 66, 2: 61, 1: 51})\n",
            "silhouette_score for KMeans Model is: 19.47 %\n"
          ]
        }
      ],
      "source": [
        "pca=PCA(n_components= 5)\n",
        "pca_components = pd.DataFrame(pca.fit_transform(df_scaled))\n",
        "\n",
        "df_pca = pd.DataFrame()\n",
        "df_pca['Type'] = df['Type']\n",
        "df_pca[['PCA1', 'PCA2', 'PCA3', 'PCA4', 'PCA5']] = pca_components\n",
        "\n",
        "\n",
        "# create model for hierachical clusters\n",
        "model = AgglomerativeClustering(n_clusters=3, metric='euclidean', linkage = 'complete')\n",
        "\n",
        "# fitting data\n",
        "model.fit(df_pca.iloc[:,1:])\n",
        "\n",
        "# prediction\n",
        "y_pred= model.fit_predict(df_pca.iloc[:,1:])\n",
        "\n",
        "print('hierachical labels:', collections.Counter(model.labels_))\n",
        "\n",
        "print('silhouette_score for Hierarchical Model is:', round(silhouette_score(df_pca.iloc[:, 1:6], y_pred)*100, 2), '%')\n",
        "\n",
        "## Create a K-means clustering model\n",
        "\n",
        "kmeans = KMeans(n_clusters = 3, init='k-means++', n_init = 'auto', random_state=42, algorithm= \"lloyd\")\n",
        "\n",
        "kmeans.fit(df_pca.iloc[:, 1:6])\n",
        "\n",
        "KMeans_Predicted_Cluster= model.fit_predict(df_pca.iloc[:, 1:6]) # can also be fetched from model.labels_\n",
        "\n",
        "# storing predcited data in main data\n",
        "df_pca['KMeans_Predicted_Cluster']=KMeans_Predicted_Cluster\n",
        "\n",
        "print('KMeans labels:', collections.Counter(kmeans.labels_))\n",
        "\n",
        "print('silhouette_score for KMeans Model is:', round(silhouette_score(df_pca.iloc[:, 1:6], KMeans_Predicted_Cluster)*100, 2), '%')"
      ]
    },
    {
      "cell_type": "markdown",
      "metadata": {
        "id": "z6ydBSos6qq_"
      },
      "source": [
        "# #n_components= 3 is giving best result"
      ]
    }
  ],
  "metadata": {
    "colab": {
      "provenance": []
    },
    "kernelspec": {
      "display_name": "Python 3",
      "name": "python3"
    },
    "language_info": {
      "codemirror_mode": {
        "name": "ipython",
        "version": 3
      },
      "file_extension": ".py",
      "mimetype": "text/x-python",
      "name": "python",
      "nbconvert_exporter": "python",
      "pygments_lexer": "ipython3",
      "version": "3.11.4"
    }
  },
  "nbformat": 4,
  "nbformat_minor": 0
}
